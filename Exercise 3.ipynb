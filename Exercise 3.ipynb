{
 "cells": [
  {
   "cell_type": "markdown",
   "metadata": {},
   "source": [
    "Exercise 3: Bayesian computation with Stan and Farmer Jöns\n",
    "============\n",
    "### *Rasmus Bååth (adapted for Python by Christophe Carvenius)*\n",
    "Here follows a number of data analytic questions. Use [Stan](http://mc-stan.org/) and Python to build models that probe these questions. The Stan documentation can be found here: http://mc-stan.org/documentation/ . You can find the answers to the exercise questions here: https://github.com/rasmusab/bayesianprobabilitiesworkshop/blob/master/Exercise%203%20-%20solutions.ipynb\n",
    "\n",
    "## 1. Getting started\n",
    "Below is a code scaffold you can use. Right now the scaffold contains a simple model for two binomial rates, but this should be replaced with a model that matches the relevant questions.\n",
    "\n",
    "**→ Read through the code to see if you can figure out what does what and then run it to make sure it works. It should print out some statistics and some pretty graphs.**\n",
    "\n",
    " "
   ]
  },
  {
   "cell_type": "code",
   "execution_count": 1,
   "metadata": {},
   "outputs": [
    {
     "name": "stderr",
     "output_type": "stream",
     "text": [
      "INFO:matplotlib.font_manager:Could not open font file /usr/share/fonts/truetype/noto/NotoColorEmoji.ttf: In FT2Font: Can not load face.  Unknown file format.\n",
      "INFO:matplotlib.font_manager:generated new fontManager\n"
     ]
    }
   ],
   "source": [
    "# Import libraries\n",
    "import pystan\n",
    "import pandas as pd\n",
    "import numpy as np\n",
    "import matplotlib.pyplot as plt"
   ]
  },
  {
   "cell_type": "code",
   "execution_count": 4,
   "metadata": {
    "collapsed": false,
    "jupyter": {
     "outputs_hidden": false
    }
   },
   "outputs": [
    {
     "name": "stderr",
     "output_type": "stream",
     "text": [
      "WARNING:pystan:DeprecationWarning: pystan.stan was deprecated in version 2.17 and will be removed in version 3.0. Compile and use a Stan program in separate steps.\n",
      "INFO:pystan:COMPILING THE C++ CODE FOR MODEL anon_model_52e804325538434ed998ef88b873f423 NOW.\n",
      "WARNING:pystan:Deprecation warning. PyStan plotting deprecated, use ArviZ library (Python 3.5+). `pip install arviz`; `arviz.plot_trace(fit)`)\n"
     ]
    },
    {
     "name": "stdout",
     "output_type": "stream",
     "text": [
      "Inference for Stan model: anon_model_52e804325538434ed998ef88b873f423.\n",
      "4 chains, each with iter=2000; warmup=1000; thin=1; \n",
      "post-warmup draws per chain=1000, total post-warmup draws=4000.\n",
      "\n",
      "         mean se_mean     sd   2.5%    25%    50%    75%  97.5%  n_eff   Rhat\n",
      "theta1   0.25  2.2e-3   0.12   0.06   0.16   0.24   0.33   0.51   2995    1.0\n",
      "theta2   0.58  2.4e-3   0.14    0.3   0.49   0.58   0.68   0.82   3099    1.0\n",
      "lp__   -15.93    0.02   1.03 -18.52 -16.37 -15.62  -15.2 -14.92   1892    1.0\n",
      "\n",
      "Samples were drawn using NUTS at Sat Feb  8 18:54:03 2020.\n",
      "For each parameter, n_eff is a crude measure of effective sample size,\n",
      "and Rhat is the potential scale reduction factor on split chains (at \n",
      "convergence, Rhat=1).\n",
      "Figure(432x288)\n"
     ]
    },
    {
     "data": {
      "image/png": "[encoded data removed]",
      "text/plain": [
       "<Figure size 432x288 with 4 Axes>"
      ]
     },
     "metadata": {
      "needs_background": "light"
     },
     "output_type": "display_data"
    }
   ],
   "source": [
    "# The Stan model as a string.\n",
    "model_string = \"\"\"\n",
    "data {\n",
    "  # Number of data points\n",
    "  int n1;\n",
    "  int n2;\n",
    "  # Number of successes\n",
    "  int y1[n1];\n",
    "  int y2[n2];\n",
    "}\n",
    "\n",
    "parameters {\n",
    "  real<lower=0, upper=1> theta1;\n",
    "  real<lower=0, upper=1> theta2;\n",
    "}\n",
    "\n",
    "model {  \n",
    "  theta1 ~ beta(1, 1);\n",
    "  theta2 ~ beta(1, 1);\n",
    "  y1 ~ bernoulli(theta1);\n",
    "  y2 ~ bernoulli(theta2); \n",
    "}\n",
    "\n",
    "generated quantities {\n",
    "}\n",
    "\"\"\"\n",
    "\n",
    "y1 = [0, 1, 0, 0, 0, 0, 1, 0, 0, 0]\n",
    "y2 = [0, 0, 1, 1, 1, 0, 1, 1, 1, 0]\n",
    "data_list = {'y1' : y1, 'y2' : y2, 'n1' : len(y1), 'n2' : len(y2)}\n",
    "\n",
    "# Compiling and producing posterior samples from the model.\n",
    "stan_samples = pystan.stan(model_code = model_string, data = data_list)\n",
    "\n",
    "# Plotting and summarizing the posterior distribution\n",
    "print(stan_samples)\n",
    "print(stan_samples.plot())"
   ]
  },
  {
   "cell_type": "markdown",
   "metadata": {},
   "source": [
    "**Hint 1:** `bernoulli` is the Bernoulli distribution which is the special case of the binomial distribution when there is just one trial `(bernoulli(x) === binomial(1, x))`. That is, if the data is coded as 4 successes out of 6 `(x = 4; n = 6)` it would be most convenient to use a binomial distribution. If the data is coded like `[1, 1, 1, 1, 0, 0]` it would be more convenient to use a Bernoulli distribution. The result would in any case be the same.\n",
    "\n",
    "**Hint 2:** Stan has quite a lot of different built in data types and two that sounds the same, but aren’t, are vectors and arrays. Vectors are simple, they are lists of real numbers and `vector[4] v;` would define a vector or length 4. Arrays are more general in that they can contain other data types, for example `int a[4]` would define an array of integers of length 4. Note the different placement of the `[]`-brackets compared to defining a vector.\n",
    "\n",
    "**Hint 3:** When defining parameters it’s important to properly define the *support*, that is, for what values the parameter has a defined meaning. For example, the support of a mean is on the whole real line (-Inf to Inf) so that can simply be declared by `real mu;`. A *standard deviation*, on the other hand, can’t be below 0.0, which could be written like this: `real<lower=0> sigma`. Finaly, a rate has to be between 0 and 1 which would be written like `real<lower=0, upper=1> theta;`."
   ]
  },
  {
   "cell_type": "markdown",
   "metadata": {},
   "source": [
    "## 2. Manipulating samples\n",
    "To inspect and manipulate samples from individual parameters it is useful to convert the Stan “object” into a simple dataframe which gets one column per parameter: "
   ]
  },
  {
   "cell_type": "code",
   "execution_count": 5,
   "metadata": {
    "collapsed": false,
    "jupyter": {
     "outputs_hidden": false
    }
   },
   "outputs": [
    {
     "data": {
      "text/html": [
       "<div>\n",
       "<style scoped>\n",
       "    .dataframe tbody tr th:only-of-type {\n",
       "        vertical-align: middle;\n",
       "    }\n",
       "\n",
       "    .dataframe tbody tr th {\n",
       "        vertical-align: top;\n",
       "    }\n",
       "\n",
       "    .dataframe thead th {\n",
       "        text-align: right;\n",
       "    }\n",
       "</style>\n",
       "<table border=\"1\" class=\"dataframe\">\n",
       "  <thead>\n",
       "    <tr style=\"text-align: right;\">\n",
       "      <th></th>\n",
       "      <th>theta1</th>\n",
       "      <th>theta2</th>\n",
       "      <th>lp__</th>\n",
       "    </tr>\n",
       "  </thead>\n",
       "  <tbody>\n",
       "    <tr>\n",
       "      <th>0</th>\n",
       "      <td>0.149814</td>\n",
       "      <td>0.569448</td>\n",
       "      <td>-15.310832</td>\n",
       "    </tr>\n",
       "    <tr>\n",
       "      <th>1</th>\n",
       "      <td>0.196400</td>\n",
       "      <td>0.479957</td>\n",
       "      <td>-15.258319</td>\n",
       "    </tr>\n",
       "    <tr>\n",
       "      <th>2</th>\n",
       "      <td>0.176081</td>\n",
       "      <td>0.333695</td>\n",
       "      <td>-16.666309</td>\n",
       "    </tr>\n",
       "    <tr>\n",
       "      <th>3</th>\n",
       "      <td>0.206340</td>\n",
       "      <td>0.480708</td>\n",
       "      <td>-15.218502</td>\n",
       "    </tr>\n",
       "    <tr>\n",
       "      <th>4</th>\n",
       "      <td>0.132141</td>\n",
       "      <td>0.677576</td>\n",
       "      <td>-15.731265</td>\n",
       "    </tr>\n",
       "  </tbody>\n",
       "</table>\n",
       "</div>"
      ],
      "text/plain": [
       "     theta1    theta2       lp__\n",
       "0  0.149814  0.569448 -15.310832\n",
       "1  0.196400  0.479957 -15.258319\n",
       "2  0.176081  0.333695 -16.666309\n",
       "3  0.206340  0.480708 -15.218502\n",
       "4  0.132141  0.677576 -15.731265"
      ]
     },
     "execution_count": 5,
     "metadata": {},
     "output_type": "execute_result"
    }
   ],
   "source": [
    "s = pd.DataFrame(stan_samples.extract())\n",
    "s.head()\n",
    " "
   ]
  },
  {
   "cell_type": "markdown",
   "metadata": {},
   "source": [
    "This is useful as you can, for example, plot and compare the individual parameters."
   ]
  },
  {
   "cell_type": "code",
   "execution_count": 6,
   "metadata": {
    "collapsed": false,
    "jupyter": {
     "outputs_hidden": false
    }
   },
   "outputs": [
    {
     "data": {
      "text/plain": [
       "0.96375"
      ]
     },
     "execution_count": 6,
     "metadata": {},
     "output_type": "execute_result"
    }
   ],
   "source": [
    "# The probability that the rate theta1 is smaller than theta2\n",
    "np.mean(s.theta1 < s.theta2) # Can also be written as sum(s.theta1 < s.theta2) / len(s)"
   ]
  },
  {
   "cell_type": "code",
   "execution_count": 7,
   "metadata": {
    "collapsed": false,
    "jupyter": {
     "outputs_hidden": false
    }
   },
   "outputs": [
    {
     "data": {
      "text/plain": [
       "<matplotlib.axes._subplots.AxesSubplot at 0x7f703126db50>"
      ]
     },
     "execution_count": 7,
     "metadata": {},
     "output_type": "execute_result"
    },
    {
     "data": {
      "image/png": "[encoded data removed]",
      "text/plain": [
       "<Figure size 432x288 with 1 Axes>"
      ]
     },
     "metadata": {
      "needs_background": "light"
     },
     "output_type": "display_data"
    }
   ],
   "source": [
    "# Plotting distribution of the difference between theta1 and theta2\n",
    "(s.theta2 - s.theta1).hist()"
   ]
  },
  {
   "cell_type": "markdown",
   "metadata": {},
   "source": [
    "**→ Calculate the probability that the difference between the two underlying rates is smaller than 0.2.**\n",
    "\n",
    "*Hint:* `abs(x - y)` calculates the absolute difference between x and y."
   ]
  },
  {
   "cell_type": "code",
   "execution_count": 8,
   "metadata": {},
   "outputs": [
    {
     "data": {
      "text/plain": [
       "0.2295"
      ]
     },
     "execution_count": 8,
     "metadata": {},
     "output_type": "execute_result"
    }
   ],
   "source": [
    "np.mean(abs(s['theta1'] - s['theta2']) < .2)"
   ]
  },
  {
   "cell_type": "markdown",
   "metadata": {},
   "source": [
    "## 3. Cows and disease\n",
    "\n",
    "Farmer Jöns has a huge number of cows. Earlier this year he ran an experiment where he gave 10 cows medicine A and 10 medicine B and then measured whether they got sick `0` or not `1` during the summer season. Here is the resulting data:"
   ]
  },
  {
   "cell_type": "code",
   "execution_count": 9,
   "metadata": {},
   "outputs": [],
   "source": [
    "cowA = [0, 1, 0, 0, 0, 0, 1, 0, 0, 0]\n",
    "cowB = [0, 0, 1, 1, 1, 0, 1, 1, 1, 0]"
   ]
  },
  {
   "cell_type": "markdown",
   "metadata": {},
   "source": [
    "**→ Jöns now wants to know: How effective are the drugs? What is the evidence that medicine A is better or worse than medicine B?**"
   ]
  },
  {
   "cell_type": "markdown",
   "metadata": {},
   "source": [
    "**Step1**: build the model in `Stan`. Exactly the same model as before can be used."
   ]
  },
  {
   "cell_type": "code",
   "execution_count": 10,
   "metadata": {},
   "outputs": [
    {
     "name": "stderr",
     "output_type": "stream",
     "text": [
      "WARNING:pystan:DeprecationWarning: pystan.stan was deprecated in version 2.17 and will be removed in version 3.0. Compile and use a Stan program in separate steps.\n",
      "INFO:pystan:COMPILING THE C++ CODE FOR MODEL anon_model_52e804325538434ed998ef88b873f423 NOW.\n",
      "WARNING:pystan:Deprecation warning. PyStan plotting deprecated, use ArviZ library (Python 3.5+). `pip install arviz`; `arviz.plot_trace(fit)`)\n"
     ]
    },
    {
     "name": "stdout",
     "output_type": "stream",
     "text": [
      "Inference for Stan model: anon_model_52e804325538434ed998ef88b873f423.\n",
      "4 chains, each with iter=2000; warmup=1000; thin=1; \n",
      "post-warmup draws per chain=1000, total post-warmup draws=4000.\n",
      "\n",
      "         mean se_mean     sd   2.5%    25%    50%    75%  97.5%  n_eff   Rhat\n",
      "theta1   0.25  2.2e-3   0.12   0.06   0.16   0.23   0.33   0.53   3242    1.0\n",
      "theta2   0.58  2.3e-3   0.14   0.31   0.49   0.59   0.69   0.84   3673    1.0\n",
      "lp__   -15.97    0.03   1.06 -18.91  -16.4 -15.63 -15.22 -14.93   1597    1.0\n",
      "\n",
      "Samples were drawn using NUTS at Sat Feb  8 18:54:55 2020.\n",
      "For each parameter, n_eff is a crude measure of effective sample size,\n",
      "and Rhat is the potential scale reduction factor on split chains (at \n",
      "convergence, Rhat=1).\n",
      "Figure(432x288)\n"
     ]
    },
    {
     "data": {
      "image/png": "[encoded data removed]",
      "text/plain": [
       "<Figure size 432x288 with 4 Axes>"
      ]
     },
     "metadata": {
      "needs_background": "light"
     },
     "output_type": "display_data"
    }
   ],
   "source": [
    "data_list = {'y1' : cowA, 'y2' : cowB, 'n1' : len(cowA), 'n2' : len(cowB)}\n",
    "\n",
    "stan_samples = pystan.stan(model_code = model_string, data = data_list)\n",
    "\n",
    "# Plotting and summarizing the posterior distribution\n",
    "print(stan_samples)\n",
    "print(stan_samples.plot())"
   ]
  },
  {
   "cell_type": "code",
   "execution_count": 11,
   "metadata": {},
   "outputs": [
    {
     "data": {
      "text/html": [
       "<div>\n",
       "<style scoped>\n",
       "    .dataframe tbody tr th:only-of-type {\n",
       "        vertical-align: middle;\n",
       "    }\n",
       "\n",
       "    .dataframe tbody tr th {\n",
       "        vertical-align: top;\n",
       "    }\n",
       "\n",
       "    .dataframe thead th {\n",
       "        text-align: right;\n",
       "    }\n",
       "</style>\n",
       "<table border=\"1\" class=\"dataframe\">\n",
       "  <thead>\n",
       "    <tr style=\"text-align: right;\">\n",
       "      <th></th>\n",
       "      <th>theta1</th>\n",
       "      <th>theta2</th>\n",
       "      <th>lp__</th>\n",
       "    </tr>\n",
       "  </thead>\n",
       "  <tbody>\n",
       "    <tr>\n",
       "      <th>0</th>\n",
       "      <td>0.119845</td>\n",
       "      <td>0.588153</td>\n",
       "      <td>-15.664475</td>\n",
       "    </tr>\n",
       "    <tr>\n",
       "      <th>1</th>\n",
       "      <td>0.352466</td>\n",
       "      <td>0.554828</td>\n",
       "      <td>-15.209811</td>\n",
       "    </tr>\n",
       "    <tr>\n",
       "      <th>2</th>\n",
       "      <td>0.309231</td>\n",
       "      <td>0.690887</td>\n",
       "      <td>-15.309244</td>\n",
       "    </tr>\n",
       "    <tr>\n",
       "      <th>3</th>\n",
       "      <td>0.329683</td>\n",
       "      <td>0.383836</td>\n",
       "      <td>-16.052901</td>\n",
       "    </tr>\n",
       "    <tr>\n",
       "      <th>4</th>\n",
       "      <td>0.210744</td>\n",
       "      <td>0.440454</td>\n",
       "      <td>-15.444105</td>\n",
       "    </tr>\n",
       "  </tbody>\n",
       "</table>\n",
       "</div>"
      ],
      "text/plain": [
       "     theta1    theta2       lp__\n",
       "0  0.119845  0.588153 -15.664475\n",
       "1  0.352466  0.554828 -15.209811\n",
       "2  0.309231  0.690887 -15.309244\n",
       "3  0.329683  0.383836 -16.052901\n",
       "4  0.210744  0.440454 -15.444105"
      ]
     },
     "execution_count": 11,
     "metadata": {},
     "output_type": "execute_result"
    }
   ],
   "source": [
    "s = pd.DataFrame(stan_samples.extract())\n",
    "s.head()"
   ]
  },
  {
   "cell_type": "code",
   "execution_count": 12,
   "metadata": {},
   "outputs": [
    {
     "data": {
      "image/png": "[encoded data removed]",
      "text/plain": [
       "<Figure size 432x288 with 1 Axes>"
      ]
     },
     "metadata": {
      "needs_background": "light"
     },
     "output_type": "display_data"
    }
   ],
   "source": [
    "bins = np.arange(0, 1.1, .1)\n",
    "_ = plt.hist(s['theta1'], histtype='step', linewidth=2, label='theta A', bins=bins)\n",
    "_ = plt.hist(s['theta2'], histtype='step', linewidth=2, label='theta B', bins=bins)\n",
    "_ = plt.legend(loc='best')"
   ]
  },
  {
   "cell_type": "markdown",
   "metadata": {},
   "source": [
    "**Step 2**: compare posterior rates"
   ]
  },
  {
   "cell_type": "code",
   "execution_count": 13,
   "metadata": {},
   "outputs": [],
   "source": [
    "s['thetaDiffBA'] = s['theta2'] - s['theta1']"
   ]
  },
  {
   "cell_type": "code",
   "execution_count": 14,
   "metadata": {},
   "outputs": [
    {
     "data": {
      "image/png": "[encoded data removed]",
      "text/plain": [
       "<Figure size 432x288 with 1 Axes>"
      ]
     },
     "metadata": {
      "needs_background": "light"
     },
     "output_type": "display_data"
    }
   ],
   "source": [
    "_ = plt.hist(s['thetaDiffBA'], bins=np.arange(-1, 1.1, .1))"
   ]
  },
  {
   "cell_type": "code",
   "execution_count": 15,
   "metadata": {},
   "outputs": [
    {
     "name": "stdout",
     "output_type": "stream",
     "text": [
      "probability of medicine B better than medicine A: 0.95875\n"
     ]
    }
   ],
   "source": [
    "print('probability of medicine B better than medicine A:', np.mean(s['thetaDiffBA'] > 0))"
   ]
  },
  {
   "cell_type": "markdown",
   "metadata": {},
   "source": [
    "**Answer**: there is a 96% probability that medicine B is more effective than medicine A."
   ]
  },
  {
   "cell_type": "markdown",
   "metadata": {},
   "source": [
    "## 4. Cows and milk\n",
    "Farmer Jöns has a huge number of cows. Earlier this year he ran an experiment where he gave 10 cows a special diet that he had heard could make them produce more milk. He recorded the number of liters of milk from these “diet” cows and from 15 “normal” cows during one month. This is the data:"
   ]
  },
  {
   "cell_type": "code",
   "execution_count": 16,
   "metadata": {},
   "outputs": [],
   "source": [
    "diet_milk = [651, 679, 374, 601, 401, 609, 767, 709, 704, 679]\n",
    "normal_milk = [798, 1139, 529, 609, 553, 743, 151, 544, 488, 555, 257, 692, 678, 675, 538]"
   ]
  },
  {
   "cell_type": "markdown",
   "metadata": {},
   "source": [
    "**→ Jöns now wants to know: Was the diet any good, does it results in better milk production?**\n",
    "\n",
    "**Hint 1:** To model this you might find it useful to use the Normal distribution which is called `normal` in Stan. A statement using `normal` could look like:\n",
    " \n",
    "`for(i in 1:n ) {`\n",
    "\n",
    "`  y[i] ~ normal(mu, sigma)`\n",
    "\n",
    "`}`\n",
    "\n",
    "Where `mu` is the mean and `sigma` is the standard deviation and `y` is a vector of length `n`. Since Stan is partly vectorized the above could also be written without the loop like `y ~ normal(mu, sigma)`.\n",
    "\n",
    "**Hint 2:** You will have to put priors on `mu` and `sigma` and here there are many options. A lazy but often OK shortcut is to just use `uniform` distributions that are wide enough to include all thinkable values of the parameters. If you want to be extra sloppy you can actually skip putting any priors at all in which case Stan will use uniform(-Infinity, Infinity), but it’s good style to use explicit priors.\n"
   ]
  },
  {
   "cell_type": "markdown",
   "metadata": {},
   "source": [
    "**Step 1**: take a look at the data"
   ]
  },
  {
   "cell_type": "code",
   "execution_count": 17,
   "metadata": {},
   "outputs": [
    {
     "data": {
      "image/png": "[encoded data removed]",
      "text/plain": [
       "<Figure size 432x288 with 1 Axes>"
      ]
     },
     "metadata": {
      "needs_background": "light"
     },
     "output_type": "display_data"
    }
   ],
   "source": [
    "bins = np.arange(300, 1200, 50)\n",
    "_ = plt.hist( diet_milk, label='diet', alpha=.3, bins=bins )\n",
    "_ = plt.hist( normal_milk, label='normal',  alpha=.3, bins=bins )\n",
    "\n",
    "_ = plt.legend(loc='best')"
   ]
  },
  {
   "cell_type": "markdown",
   "metadata": {},
   "source": [
    "**Step 2**: build the model in `Stan`.  \n",
    "Here the assumption is that the milk production is distributed as a Gaussian, therefore we use two Gaussan models, one for each group of cows. The idea is that each cow is treated as a different \"experiment\" belonging to a given category `diet`/`normal`."
   ]
  },
  {
   "cell_type": "code",
   "execution_count": 18,
   "metadata": {},
   "outputs": [],
   "source": [
    "model = '''\n",
    "data {\n",
    "  \n",
    "  // number of cows\n",
    "  int n1;\n",
    "  int n2;\n",
    "  \n",
    "  // amount of milk produced by each cow in each sample\n",
    "  int milk1[n1];\n",
    "  int milk2[n2];\n",
    "}\n",
    "\n",
    "parameters {\n",
    "  \n",
    "  // milk production is gaussian\n",
    "  \n",
    "  real<lower=0> mu_1;\n",
    "  real<lower=0> sigma_1;\n",
    "  \n",
    "  real<lower=0> mu_2;\n",
    "  real<lower=0> sigma_2;\n",
    "}\n",
    "\n",
    "model {\n",
    "  mu_1 ~ uniform(0, 5000);\n",
    "  sigma_1 ~ uniform(0, 5000);\n",
    "  \n",
    "  mu_2 ~ uniform(0, 5000);\n",
    "  sigma_2 ~ uniform(0, 5000);\n",
    "  \n",
    "  for ( i in 1:n1 ) {\n",
    "    milk1[i] ~ normal(mu_1, sigma_1);\n",
    "  } \n",
    "  for ( i in 1: n2 ) {\n",
    "    milk2[i] ~ normal(mu_2, sigma_2);\n",
    "  }\n",
    "}\n",
    "\n",
    "generated quantities {\n",
    "}\n",
    "'''"
   ]
  },
  {
   "cell_type": "code",
   "execution_count": 19,
   "metadata": {},
   "outputs": [],
   "source": [
    "data = { 'n1': len(diet_milk), 'milk1': diet_milk, 'n2': len(normal_milk), 'milk2': normal_milk }"
   ]
  },
  {
   "cell_type": "code",
   "execution_count": 20,
   "metadata": {},
   "outputs": [
    {
     "name": "stderr",
     "output_type": "stream",
     "text": [
      "WARNING:pystan:DeprecationWarning: pystan.stan was deprecated in version 2.17 and will be removed in version 3.0. Compile and use a Stan program in separate steps.\n",
      "INFO:pystan:COMPILING THE C++ CODE FOR MODEL anon_model_5fdf7e34951dbb7c6a8fe197283e815b NOW.\n",
      "WARNING:pystan:Deprecation warning. PyStan plotting deprecated, use ArviZ library (Python 3.5+). `pip install arviz`; `arviz.plot_trace(fit)`)\n"
     ]
    },
    {
     "name": "stdout",
     "output_type": "stream",
     "text": [
      "Inference for Stan model: anon_model_5fdf7e34951dbb7c6a8fe197283e815b.\n",
      "4 chains, each with iter=2000; warmup=1000; thin=1; \n",
      "post-warmup draws per chain=1000, total post-warmup draws=4000.\n",
      "\n",
      "          mean se_mean     sd   2.5%    25%    50%    75%  97.5%  n_eff   Rhat\n",
      "mu_1    615.99    0.98  51.03 510.83 585.78  616.3  646.9 719.73   2724    1.0\n",
      "sigma_1 153.18     0.9  43.01  94.25 122.67 145.47 175.08 262.13   2283    1.0\n",
      "mu_2    596.33    1.17  65.72  468.6 554.95 596.57 637.64 725.94   3129    1.0\n",
      "sigma_2  249.5    0.98   53.9 170.61 212.12 240.85 276.29 379.71   3042    1.0\n",
      "lp__    -120.6    0.04   1.54 -124.5 -121.4 -120.2 -119.5 -118.7   1472    1.0\n",
      "\n",
      "Samples were drawn using NUTS at Sat Feb  8 18:57:13 2020.\n",
      "For each parameter, n_eff is a crude measure of effective sample size,\n",
      "and Rhat is the potential scale reduction factor on split chains (at \n",
      "convergence, Rhat=1).\n",
      "Figure(432x288)\n"
     ]
    },
    {
     "data": {
      "image/png": "[encoded data removed]",
      "text/plain": [
       "<Figure size 432x288 with 8 Axes>"
      ]
     },
     "metadata": {
      "needs_background": "light"
     },
     "output_type": "display_data"
    }
   ],
   "source": [
    "stan_samples = pystan.stan(model_code = model, data = data)\n",
    "\n",
    "# Plotting and summarizing the posterior distribution\n",
    "print(stan_samples)\n",
    "print(stan_samples.plot())"
   ]
  },
  {
   "cell_type": "code",
   "execution_count": 21,
   "metadata": {},
   "outputs": [
    {
     "data": {
      "text/html": [
       "<div>\n",
       "<style scoped>\n",
       "    .dataframe tbody tr th:only-of-type {\n",
       "        vertical-align: middle;\n",
       "    }\n",
       "\n",
       "    .dataframe tbody tr th {\n",
       "        vertical-align: top;\n",
       "    }\n",
       "\n",
       "    .dataframe thead th {\n",
       "        text-align: right;\n",
       "    }\n",
       "</style>\n",
       "<table border=\"1\" class=\"dataframe\">\n",
       "  <thead>\n",
       "    <tr style=\"text-align: right;\">\n",
       "      <th></th>\n",
       "      <th>mu_1</th>\n",
       "      <th>sigma_1</th>\n",
       "      <th>mu_2</th>\n",
       "      <th>sigma_2</th>\n",
       "      <th>lp__</th>\n",
       "    </tr>\n",
       "  </thead>\n",
       "  <tbody>\n",
       "    <tr>\n",
       "      <th>0</th>\n",
       "      <td>649.253399</td>\n",
       "      <td>172.532562</td>\n",
       "      <td>540.746928</td>\n",
       "      <td>270.852741</td>\n",
       "      <td>-119.970213</td>\n",
       "    </tr>\n",
       "    <tr>\n",
       "      <th>1</th>\n",
       "      <td>705.772271</td>\n",
       "      <td>166.533700</td>\n",
       "      <td>630.146250</td>\n",
       "      <td>241.859746</td>\n",
       "      <td>-120.326187</td>\n",
       "    </tr>\n",
       "    <tr>\n",
       "      <th>2</th>\n",
       "      <td>656.136280</td>\n",
       "      <td>183.671902</td>\n",
       "      <td>583.095581</td>\n",
       "      <td>217.729534</td>\n",
       "      <td>-119.530079</td>\n",
       "    </tr>\n",
       "    <tr>\n",
       "      <th>3</th>\n",
       "      <td>561.046073</td>\n",
       "      <td>159.974896</td>\n",
       "      <td>569.213233</td>\n",
       "      <td>332.260980</td>\n",
       "      <td>-121.205707</td>\n",
       "    </tr>\n",
       "    <tr>\n",
       "      <th>4</th>\n",
       "      <td>647.927931</td>\n",
       "      <td>130.909592</td>\n",
       "      <td>576.935136</td>\n",
       "      <td>259.659190</td>\n",
       "      <td>-118.987633</td>\n",
       "    </tr>\n",
       "  </tbody>\n",
       "</table>\n",
       "</div>"
      ],
      "text/plain": [
       "         mu_1     sigma_1        mu_2     sigma_2        lp__\n",
       "0  649.253399  172.532562  540.746928  270.852741 -119.970213\n",
       "1  705.772271  166.533700  630.146250  241.859746 -120.326187\n",
       "2  656.136280  183.671902  583.095581  217.729534 -119.530079\n",
       "3  561.046073  159.974896  569.213233  332.260980 -121.205707\n",
       "4  647.927931  130.909592  576.935136  259.659190 -118.987633"
      ]
     },
     "execution_count": 21,
     "metadata": {},
     "output_type": "execute_result"
    }
   ],
   "source": [
    "df_milk = pd.DataFrame(stan_samples.extract())\n",
    "df_milk.head()"
   ]
  },
  {
   "cell_type": "code",
   "execution_count": 22,
   "metadata": {},
   "outputs": [
    {
     "data": {
      "image/png": "[encoded data removed]",
      "text/plain": [
       "<Figure size 432x288 with 1 Axes>"
      ]
     },
     "metadata": {
      "needs_background": "light"
     },
     "output_type": "display_data"
    }
   ],
   "source": [
    "bins=np.arange(100, 1000, 10)\n",
    "\n",
    "_ = plt.hist( df_milk['mu_1'], label='diet', bins=bins, alpha=.3 )\n",
    "_ = plt.hist( df_milk['mu_2'], label='normal', bins=bins, alpha=.3 )\n",
    "\n",
    "_ = plt.legend(loc='best')"
   ]
  },
  {
   "cell_type": "code",
   "execution_count": 23,
   "metadata": {},
   "outputs": [
    {
     "data": {
      "image/png": "[encoded data removed]",
      "text/plain": [
       "<Figure size 432x288 with 1 Axes>"
      ]
     },
     "metadata": {
      "needs_background": "light"
     },
     "output_type": "display_data"
    }
   ],
   "source": [
    "_ = plt.hist(df_milk['mu_1'] - df_milk['mu_2'])"
   ]
  },
  {
   "cell_type": "code",
   "execution_count": 24,
   "metadata": {},
   "outputs": [
    {
     "data": {
      "text/plain": [
       "0.602"
      ]
     },
     "execution_count": 24,
     "metadata": {},
     "output_type": "execute_result"
    }
   ],
   "source": [
    "np.mean( (df_milk['mu_1'] - df_milk['mu_2']) > 0 )"
   ]
  },
  {
   "cell_type": "markdown",
   "metadata": {},
   "source": [
    "**Answer**: there is ~60% probability that the diet is indeed making cows produce more milk, not much."
   ]
  },
  {
   "cell_type": "markdown",
   "metadata": {},
   "source": [
    "\n",
    "## Bonus questions \n",
    "If you have made it this far, great! Below are a couple of bonus questions. How far can you reach?\n",
    "## 5. Cows and Mutant Cows\n",
    "Farmer Jöns has a huge number of cows. Due to a recent radioactive leak in a nearby power plant he fears that some of them have become mutant cows. Jöns is interested in measuring the effectiveness of a diet on normal cows, but not on mutant cows (that might produce excessive amounts of milk, or nearly no milk at all!). The following data set contains the amount of milk for cows on a diet and cows on normal diet:"
   ]
  },
  {
   "cell_type": "code",
   "execution_count": 33,
   "metadata": {
    "collapsed": false,
    "jupyter": {
     "outputs_hidden": false
    }
   },
   "outputs": [],
   "source": [
    "diet_milk = [651, 679, 374, 601, 4000, 401, 609, 767, 3890, 704, 679]\n",
    "normal_milk = [798, 1139, 529, 609, 553, 743, 3, 151, 544, 488, 15, 257, 692, 678, 675, 538]"
   ]
  },
  {
   "cell_type": "markdown",
   "metadata": {},
   "source": [
    "Some of the data points might come from mutant cows (also known as outliers).\n",
    "\n",
    "**→ Jöns now wants to know: Was the diet any good, does it results in better milk production for non-mutant cows?**\n",
    "\n",
    "**Hint:** Basically we have an outlier problem. A conventional trick in this situation is to supplement the normal distribution for a distribution with wider tails that is more sensitive to the central values and disregards the far away values (this is a little bit like trimming away some amount of the data on the left and on the right). A good choice for such a distribution is the t-distribution which is like the normal but with a third parameter called the “degrees of freedom”. The lower the “degrees of freedom” the wider the tails and when this parameter is larger than about 50 the t-distribution is practically the same as the normal. A good choice for the problem with the mutant cows would be to use a t distribution with around 3 degrees of freedom:\n",
    "\n",
    "`y ~ student_t(3, mu, sigma);`"
   ]
  },
  {
   "cell_type": "markdown",
   "metadata": {},
   "source": [
    "Of course, you could also estimate the “degrees of freedom” as a free parameter, but that might be overkill in this case…\n",
    "\n",
    "## 6. Chickens and diet\n",
    "Farmer Jöns has a huge number of cows. He also has chickens. He tries different diets on them too with the hope that they will produce more eggs. Below is the number of eggs produced in one week by chickens on a diet and chickens eating normal chicken stuff:"
   ]
  },
  {
   "cell_type": "code",
   "execution_count": 34,
   "metadata": {
    "collapsed": true,
    "jupyter": {
     "outputs_hidden": true
    }
   },
   "outputs": [],
   "source": [
    "diet_eggs = [6, 4, 2, 3, 4, 3, 0, 4, 0, 6, 3]\n",
    "normal_eggs = [4, 2, 1, 1, 2, 1, 2, 1, 3, 2, 1]"
   ]
  },
  {
   "cell_type": "markdown",
   "metadata": {},
   "source": [
    "**→ Jöns now wants to know: Was the diet any good, does it result in the chickens producing more eggs?**\n",
    "\n",
    "**Hint:** The `poisson` distribution is a discrete distribution that is often a reasonable choice when one wants to model count data (like, for example, counts of eggs). The `poisson` has one parameter `λλ` which stands for the mean count. In Stan you would use the Poisson like this:\n",
    "\n",
    "`y ~ poisson(lambda);`\n",
    "\n",
    "where y would be a single integer or an integer array of length n ( defined like int y[n];) and lambda a real number bounded at 0.0 (`real<lower=0> lambda;`)"
   ]
  },
  {
   "cell_type": "markdown",
   "metadata": {},
   "source": [
    "## 7. Cows and milk in a different data format\n",
    "It's often common to have all data in a data frame. Inspect the following data frame d:"
   ]
  },
  {
   "cell_type": "code",
   "execution_count": 42,
   "metadata": {
    "collapsed": false,
    "jupyter": {
     "outputs_hidden": false
    }
   },
   "outputs": [],
   "source": [
    "d = pd.DataFrame({'milk' : [651, 679, 374, 601, 401, 609, 767, 709, 704, 679, 798, 1139,\n",
    "                            529, 609, 553, 743, 151, 544, 488, 555, 257, 692, 678, 675, 538],\n",
    "                 'group' : [1, 1, 1, 1, 1, 1, 1, 1, 1, 1, 2, 2, \n",
    "                            2, 2, 2, 2, 2, 2, 2, 2, 2, 2, 2, 2, 2]})"
   ]
  },
  {
   "cell_type": "markdown",
   "metadata": {},
   "source": [
    "Looking at `d` you should see that it contains the same data as in exercise (4) but coded with one cow per row (The mutant cows were perhaps just a dream…). The diet group is coded as a 1 and the normal group is coded as a 2. This data could be read into Stan by using the following data list:"
   ]
  },
  {
   "cell_type": "code",
   "execution_count": 47,
   "metadata": {
    "collapsed": true,
    "jupyter": {
     "outputs_hidden": true
    }
   },
   "outputs": [],
   "source": [
    "data_list = dict(y = d.milk, x = d.group, n = len(d.milk), \n",
    "                  n_groups = max(d.group))"
   ]
  },
  {
   "cell_type": "markdown",
   "metadata": {},
   "source": [
    "**→ Modify the model from (4) to work with this data format instead.**\n",
    "\n",
    "**Hint:** In your Stan code you can loop over the group variable and use it to pick out the parameters belonging to that group like this:\n",
    "\n",
    "`for(i in 1:n) {`\n",
    "\n",
    "`  y[i] ~ normal( mu[x[i]], sigma[x[i]] ) `\n",
    "\n",
    "`}`\n",
    "\n",
    "Where `mu` and `sigma` now are 2-length vectors. This is also known as indexception: You use an index (`i`) to pick out an index (`x[i]`) to pick out a value (`mu[x[i]]`). As indexing is vectorised in Stan this can actually be shortened to just:\n",
    "\n",
    "`y ~ normal( mu[x], sigma[x] );`"
   ]
  },
  {
   "cell_type": "markdown",
   "metadata": {},
   "source": [
    "## 8. Cows and more diets\n",
    "Farmer Jöns has a huge number of cows. He also has a huge number of different diets he wants to try. In addition to the diet he already tried, he tries another diet (let’s call it diet 2) on 10 more cows. Copy-n-paste the following into R and inspect the resulting data frame `d`."
   ]
  },
  {
   "cell_type": "code",
   "execution_count": 49,
   "metadata": {
    "collapsed": true,
    "jupyter": {
     "outputs_hidden": true
    }
   },
   "outputs": [],
   "source": [
    "d = pd.DataFrame({'milk' : [651, 679, 374, 601, 401, 609, 767, 709, 704, 679, 798, 1139, 529,\n",
    "                            609, 553, 743, 151, 544, 488, 555, 257, 692, 678, 675, 538, 1061,\n",
    "                            721, 595, 784, 877, 562, 800, 684, 741, 516],\n",
    "                  'group' : [1, 1, 1, 1, 1, 1, 1, 1, 1, 1, 2, 2, 2, 2, 2, 2, 2, 2, 2, 2, 2, 2,\n",
    "                             2, 2, 2, 3, 3, 3, 3, 3, 3, 3, 3, 3, 3]})"
   ]
  },
  {
   "cell_type": "markdown",
   "metadata": {},
   "source": [
    "It contains the same data as in the last exercise but with 10 added rows for diet 2 which is coded as group = 3.\n",
    "\n",
    "**→ Now Jöns now wants to know: Which diet seems best, if any? How much more milk should he be expecting to produce using the best diet compared to the others?**\n",
    "\n",
    "**Hint:** If you looped or used vectorization in a smart way you should be able to use the same model as in Question 7.\n",
    "\n",
    "## 9. Cows and sunshine\n",
    "Farmer Jöns has a huge number of cows. He is wondering whether the amount of time a cow spends outside in the sunshine affects how much milk she produces. To test this he makes a controlled experiment where he picks out 20 cows and assigns each a number of hours she should spend outside each day. The experiment runs for a month and Jöns records the number of liters of milk each cow produces. Copy-n-paste the following into R and inspect the resulting data frame `d`."
   ]
  },
  {
   "cell_type": "code",
   "execution_count": 50,
   "metadata": {
    "collapsed": true,
    "jupyter": {
     "outputs_hidden": true
    }
   },
   "outputs": [],
   "source": [
    "d = pd.DataFrame({'milk' : [685, 691, 476, 1151, 879, 725, 1190, 1107, 809, 539,\n",
    "                            298, 805, 820, 498, 1026, 1217, 1177, 684, 1061, 834],\n",
    "                 'hours' : [3, 7, 6, 10, 6, 5, 10, 11, 9, 3, 6, 6, 3, 5, 8, 11, \n",
    "                            12, 9, 5, 5]})"
   ]
  },
  {
   "cell_type": "markdown",
   "metadata": {},
   "source": [
    "**→ Using this data on hours of sunshine and resulting liters of milk Jöns wants to know: Does sunshine affect milk production positively or negatively?**\n",
    "\n",
    "**Hint 1:** A model probing the question above requires quite small changes to the model you developed in Question 8.\n",
    "\n",
    "**Hint 2:** You do remember the equation for the (linear regression) line? If not, here it is: `mu <- beta0 + beta1 * x;`\n"
   ]
  }
 ],
 "metadata": {
  "celltoolbar": "Raw Cell Format",
  "kernelspec": {
   "display_name": "stan_env",
   "language": "python",
   "name": "stan_env"
  },
  "language_info": {
   "codemirror_mode": {
    "name": "ipython",
    "version": 3
   },
   "file_extension": ".py",
   "mimetype": "text/x-python",
   "name": "python",
   "nbconvert_exporter": "python",
   "pygments_lexer": "ipython3",
   "version": "3.7.6"
  }
 },
 "nbformat": 4,
 "nbformat_minor": 4
}
